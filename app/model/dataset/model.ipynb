{
 "cells": [
  {
   "cell_type": "code",
   "execution_count": 1,
   "metadata": {},
   "outputs": [],
   "source": [
    "import pandas as pd\n",
    "import dill\n",
    "import os\n",
    "\n",
    "model_path = 'app/model/dataset/model.dill'\n",
    "dir = os.getcwd()\n",
    "\n",
    "X_train = pd.read_csv(dir + \"/aug_train.csv\")\n",
    "# y_train = X_train.pop('target')\n",
    "\n",
    "X_test = pd.read_csv(dir + \"/aug_test.csv\")\n"
   ]
  },
  {
   "cell_type": "code",
   "execution_count": 2,
   "metadata": {},
   "outputs": [],
   "source": [
    "# from pandas_profiling import ProfileReport\n",
    "# profile = ProfileReport(X_train, title='Pandas Profiling Report')\n",
    "# profile.to_file(output_file=f\"{dir}/profile.html\")\n"
   ]
  },
  {
   "cell_type": "code",
   "execution_count": 3,
   "metadata": {},
   "outputs": [],
   "source": [
    "from sklearn.model_selection import train_test_split\n",
    "\n",
    "\n",
    "def transform(df):\n",
    "\n",
    "    # drop unnecessary columns\n",
    "    columns = ['enrollee_id']\n",
    "    try:\n",
    "        df.drop(columns=columns, inplace=True)\n",
    "    except:\n",
    "        pass\n",
    "\n",
    "    # fill missing values\n",
    "    columns = ['enrolled_university', 'education_level',\n",
    "               'major_discipline', 'experience']\n",
    "    df[columns] = df[columns].fillna('None')\n",
    "\n",
    "    # drop columns with missing values\n",
    "    df.dropna(axis=0, how='any', inplace=True)\n",
    "\n",
    "    return df\n",
    "\n",
    "\n",
    "X_train = transform(X_train)\n",
    "y_train = X_train.pop('target')\n",
    "\n",
    "X_train, X_validation, y_train, y_validation = train_test_split(\n",
    "    X_train, y_train, train_size=0.7, random_state=33)\n"
   ]
  },
  {
   "cell_type": "code",
   "execution_count": 4,
   "metadata": {},
   "outputs": [
    {
     "name": "stdout",
     "output_type": "stream",
     "text": [
      "Model is fitted: True\n",
      "Model params: {'iterations': 1000, 'depth': 2, 'loss_function': 'Logloss', 'verbose': False, 'eval_metric': 'Accuracy'} \n",
      "\n",
      "Best iteration:  392 \n",
      "\n",
      "Best score:  {'learn': {'Accuracy': 0.8678665496049166, 'Logloss': 0.343977911548915}, 'validation': {'Accuracy': 0.8689419795221843, 'Logloss': 0.347459018406308}} \n",
      "\n",
      "Feature importances:\n",
      "('city', 6.700479521955547)\n",
      "('city_development_index', 76.05593717650144)\n",
      "('gender', 0.8568288514585269)\n",
      "('relevent_experience', 1.984176513268395)\n",
      "('enrolled_university', 2.8374511700107767)\n",
      "('education_level', 0.23077529968763838)\n",
      "('major_discipline', 0.5937789853156852)\n",
      "('experience', 2.8619329812161465)\n",
      "('company_size', 2.179297135717084)\n",
      "('company_type', 1.787376510671769)\n",
      "('last_new_job', 2.3333612071723833)\n",
      "('training_hours', 1.5786046470246917)\n"
     ]
    }
   ],
   "source": [
    "from catboost import CatBoostClassifier\n",
    "\n",
    "cat_features = ['city', 'gender', 'relevent_experience',\n",
    "                'enrolled_university', 'education_level', 'major_discipline',\n",
    "                'experience', 'company_size', 'company_type', 'last_new_job']\n",
    "\n",
    "cat = CatBoostClassifier(iterations=1000,\n",
    "                         depth=2,\n",
    "                         loss_function=\"Logloss\",\n",
    "                         eval_metric='Accuracy',\n",
    "                         verbose=False)\n",
    "\n",
    "cat.fit(X_train, y_train,\n",
    "        cat_features=cat_features,\n",
    "        eval_set=(X_validation, y_validation),\n",
    "        use_best_model=True)\n",
    "\n",
    "print(f'Model is fitted: {str(cat.is_fitted())}')\n",
    "print('Model params:', cat.get_params(), '\\n')\n",
    "print('Best iteration: ',cat.best_iteration_, '\\n')\n",
    "print('Best score: ', cat.get_best_score(), '\\n')\n",
    "print('Feature importances:')\n",
    "[print(i) for i in list(zip(cat.feature_names_, cat.get_feature_importance()))];\n",
    "\n"
   ]
  },
  {
   "cell_type": "code",
   "execution_count": 5,
   "metadata": {},
   "outputs": [
    {
     "name": "stdout",
     "output_type": "stream",
     "text": [
      "<class 'pandas.core.frame.DataFrame'>\n",
      "Int64Index: 1131 entries, 3 to 2128\n",
      "Data columns (total 12 columns):\n",
      " #   Column                  Non-Null Count  Dtype  \n",
      "---  ------                  --------------  -----  \n",
      " 0   city                    1131 non-null   object \n",
      " 1   city_development_index  1131 non-null   float64\n",
      " 2   gender                  1131 non-null   object \n",
      " 3   relevent_experience     1131 non-null   object \n",
      " 4   enrolled_university     1131 non-null   object \n",
      " 5   education_level         1131 non-null   object \n",
      " 6   major_discipline        1131 non-null   object \n",
      " 7   experience              1131 non-null   object \n",
      " 8   company_size            1131 non-null   object \n",
      " 9   company_type            1131 non-null   object \n",
      " 10  last_new_job            1131 non-null   object \n",
      " 11  training_hours          1131 non-null   int64  \n",
      "dtypes: float64(1), int64(1), object(10)\n",
      "memory usage: 114.9+ KB\n"
     ]
    }
   ],
   "source": [
    "transform(X_test).info()"
   ]
  },
  {
   "cell_type": "code",
   "execution_count": 6,
   "metadata": {},
   "outputs": [
    {
     "name": "stdout",
     "output_type": "stream",
     "text": [
      "<class 'pandas.core.frame.DataFrame'>\n",
      "Int64Index: 1131 entries, 3 to 2128\n",
      "Data columns (total 12 columns):\n",
      " #   Column                  Non-Null Count  Dtype  \n",
      "---  ------                  --------------  -----  \n",
      " 0   city                    1131 non-null   object \n",
      " 1   city_development_index  1131 non-null   float64\n",
      " 2   gender                  1131 non-null   object \n",
      " 3   relevent_experience     1131 non-null   object \n",
      " 4   enrolled_university     1131 non-null   object \n",
      " 5   education_level         1131 non-null   object \n",
      " 6   major_discipline        1131 non-null   object \n",
      " 7   experience              1131 non-null   object \n",
      " 8   company_size            1131 non-null   object \n",
      " 9   company_type            1131 non-null   object \n",
      " 10  last_new_job            1131 non-null   object \n",
      " 11  training_hours          1131 non-null   int64  \n",
      "dtypes: float64(1), int64(1), object(10)\n",
      "memory usage: 114.9+ KB\n"
     ]
    }
   ],
   "source": [
    "X_test.info()"
   ]
  },
  {
   "cell_type": "code",
   "execution_count": 7,
   "metadata": {},
   "outputs": [
    {
     "data": {
      "text/html": [
       "<div>\n",
       "<style scoped>\n",
       "    .dataframe tbody tr th:only-of-type {\n",
       "        vertical-align: middle;\n",
       "    }\n",
       "\n",
       "    .dataframe tbody tr th {\n",
       "        vertical-align: top;\n",
       "    }\n",
       "\n",
       "    .dataframe thead th {\n",
       "        text-align: right;\n",
       "    }\n",
       "</style>\n",
       "<table border=\"1\" class=\"dataframe\">\n",
       "  <thead>\n",
       "    <tr style=\"text-align: right;\">\n",
       "      <th></th>\n",
       "      <th>city</th>\n",
       "      <th>city_development_index</th>\n",
       "      <th>gender</th>\n",
       "      <th>relevent_experience</th>\n",
       "      <th>enrolled_university</th>\n",
       "      <th>education_level</th>\n",
       "      <th>major_discipline</th>\n",
       "      <th>experience</th>\n",
       "      <th>company_size</th>\n",
       "      <th>company_type</th>\n",
       "      <th>last_new_job</th>\n",
       "      <th>training_hours</th>\n",
       "    </tr>\n",
       "    <tr>\n",
       "      <th>target</th>\n",
       "      <th></th>\n",
       "      <th></th>\n",
       "      <th></th>\n",
       "      <th></th>\n",
       "      <th></th>\n",
       "      <th></th>\n",
       "      <th></th>\n",
       "      <th></th>\n",
       "      <th></th>\n",
       "      <th></th>\n",
       "      <th></th>\n",
       "      <th></th>\n",
       "    </tr>\n",
       "  </thead>\n",
       "  <tbody>\n",
       "    <tr>\n",
       "      <th>0.0</th>\n",
       "      <td>514</td>\n",
       "      <td>514</td>\n",
       "      <td>514</td>\n",
       "      <td>514</td>\n",
       "      <td>514</td>\n",
       "      <td>514</td>\n",
       "      <td>514</td>\n",
       "      <td>514</td>\n",
       "      <td>514</td>\n",
       "      <td>514</td>\n",
       "      <td>514</td>\n",
       "      <td>514</td>\n",
       "    </tr>\n",
       "    <tr>\n",
       "      <th>1.0</th>\n",
       "      <td>80</td>\n",
       "      <td>80</td>\n",
       "      <td>80</td>\n",
       "      <td>80</td>\n",
       "      <td>80</td>\n",
       "      <td>80</td>\n",
       "      <td>80</td>\n",
       "      <td>80</td>\n",
       "      <td>80</td>\n",
       "      <td>80</td>\n",
       "      <td>80</td>\n",
       "      <td>80</td>\n",
       "    </tr>\n",
       "  </tbody>\n",
       "</table>\n",
       "</div>"
      ],
      "text/plain": [
       "        city  city_development_index  gender  relevent_experience  \\\n",
       "target                                                              \n",
       "0.0      514                     514     514                  514   \n",
       "1.0       80                      80      80                   80   \n",
       "\n",
       "        enrolled_university  education_level  major_discipline  experience  \\\n",
       "target                                                                       \n",
       "0.0                     514              514               514         514   \n",
       "1.0                      80               80                80          80   \n",
       "\n",
       "        company_size  company_type  last_new_job  training_hours  \n",
       "target                                                            \n",
       "0.0              514           514           514             514  \n",
       "1.0               80            80            80              80  "
      ]
     },
     "execution_count": 7,
     "metadata": {},
     "output_type": "execute_result"
    }
   ],
   "source": [
    "\n",
    "target = X_test \n",
    "target['target'] = pd.Series(cat.predict(X_test))\n",
    "target.groupby('target').count()\n"
   ]
  },
  {
   "cell_type": "code",
   "execution_count": 8,
   "metadata": {},
   "outputs": [
    {
     "name": "stdout",
     "output_type": "stream",
     "text": [
      "<class 'pandas.core.frame.DataFrame'>\n",
      "Int64Index: 1131 entries, 3 to 2128\n",
      "Data columns (total 13 columns):\n",
      " #   Column                  Non-Null Count  Dtype  \n",
      "---  ------                  --------------  -----  \n",
      " 0   city                    1131 non-null   object \n",
      " 1   city_development_index  1131 non-null   float64\n",
      " 2   gender                  1131 non-null   object \n",
      " 3   relevent_experience     1131 non-null   object \n",
      " 4   enrolled_university     1131 non-null   object \n",
      " 5   education_level         1131 non-null   object \n",
      " 6   major_discipline        1131 non-null   object \n",
      " 7   experience              1131 non-null   object \n",
      " 8   company_size            1131 non-null   object \n",
      " 9   company_type            1131 non-null   object \n",
      " 10  last_new_job            1131 non-null   object \n",
      " 11  training_hours          1131 non-null   int64  \n",
      " 12  target                  594 non-null    float64\n",
      "dtypes: float64(2), int64(1), object(10)\n",
      "memory usage: 123.7+ KB\n"
     ]
    }
   ],
   "source": [
    "X_test.info()"
   ]
  }
 ],
 "metadata": {
  "kernelspec": {
   "display_name": "Python 3.10.4 64-bit",
   "language": "python",
   "name": "python3"
  },
  "language_info": {
   "codemirror_mode": {
    "name": "ipython",
    "version": 3
   },
   "file_extension": ".py",
   "mimetype": "text/x-python",
   "name": "python",
   "nbconvert_exporter": "python",
   "pygments_lexer": "ipython3",
   "version": "3.10.4"
  },
  "orig_nbformat": 4,
  "vscode": {
   "interpreter": {
    "hash": "26de051ba29f2982a8de78e945f0abaf191376122a1563185a90213a26c5da77"
   }
  }
 },
 "nbformat": 4,
 "nbformat_minor": 2
}
